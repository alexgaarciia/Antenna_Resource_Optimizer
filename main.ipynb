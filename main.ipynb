{
 "cells": [
  {
   "cell_type": "markdown",
   "id": "c7b55994",
   "metadata": {},
   "source": [
    "## Imports"
   ]
  },
  {
   "cell_type": "code",
   "execution_count": 7,
   "id": "0438301c",
   "metadata": {},
   "outputs": [],
   "source": [
    "import numpy as np\n",
    "import pandas as pd\n",
    "import matplotlib.pyplot as plt"
   ]
  },
  {
   "cell_type": "markdown",
   "id": "55254251",
   "metadata": {},
   "source": [
    "## Data definition"
   ]
  },
  {
   "cell_type": "code",
   "execution_count": 8,
   "id": "05961ff0",
   "metadata": {},
   "outputs": [],
   "source": [
    "antennas = [\n",
    "    {'id': 'A1', 'x': 0, 'y': 0, 'bandwidth': 100},\n",
    "    {'id': 'A2', 'x': 100, 'y': 0, 'bandwidth': 80},\n",
    "    {'id': 'A3', 'x': 50, 'y': 86, 'bandwidth': 120}\n",
    "]\n",
    "users = [\n",
    "    {'id': 'U1', 'x': 10, 'y': 30},\n",
    "    {'id': 'U2', 'x': 60, 'y': 20},\n",
    "    {'id': 'U3', 'x': 100, 'y': 60},\n",
    "    {'id': 'U4', 'x': 20, 'y': 90}\n",
    "]"
   ]
  },
  {
   "cell_type": "code",
   "execution_count": 9,
   "id": "d7497c8c",
   "metadata": {},
   "outputs": [
    {
     "data": {
      "text/html": [
       "<div>\n",
       "<style scoped>\n",
       "    .dataframe tbody tr th:only-of-type {\n",
       "        vertical-align: middle;\n",
       "    }\n",
       "\n",
       "    .dataframe tbody tr th {\n",
       "        vertical-align: top;\n",
       "    }\n",
       "\n",
       "    .dataframe thead th {\n",
       "        text-align: right;\n",
       "    }\n",
       "</style>\n",
       "<table border=\"1\" class=\"dataframe\">\n",
       "  <thead>\n",
       "    <tr style=\"text-align: right;\">\n",
       "      <th></th>\n",
       "      <th>id</th>\n",
       "      <th>x</th>\n",
       "      <th>y</th>\n",
       "      <th>bandwidth</th>\n",
       "    </tr>\n",
       "  </thead>\n",
       "  <tbody>\n",
       "    <tr>\n",
       "      <th>0</th>\n",
       "      <td>A1</td>\n",
       "      <td>0</td>\n",
       "      <td>0</td>\n",
       "      <td>100</td>\n",
       "    </tr>\n",
       "    <tr>\n",
       "      <th>1</th>\n",
       "      <td>A2</td>\n",
       "      <td>100</td>\n",
       "      <td>0</td>\n",
       "      <td>80</td>\n",
       "    </tr>\n",
       "    <tr>\n",
       "      <th>2</th>\n",
       "      <td>A3</td>\n",
       "      <td>50</td>\n",
       "      <td>86</td>\n",
       "      <td>120</td>\n",
       "    </tr>\n",
       "  </tbody>\n",
       "</table>\n",
       "</div>"
      ],
      "text/plain": [
       "   id    x   y  bandwidth\n",
       "0  A1    0   0        100\n",
       "1  A2  100   0         80\n",
       "2  A3   50  86        120"
      ]
     },
     "execution_count": 9,
     "metadata": {},
     "output_type": "execute_result"
    }
   ],
   "source": [
    "df_antennas = pd.DataFrame(antennas)\n",
    "df_antennas"
   ]
  },
  {
   "cell_type": "code",
   "execution_count": 10,
   "id": "57293cdf",
   "metadata": {},
   "outputs": [
    {
     "data": {
      "text/html": [
       "<div>\n",
       "<style scoped>\n",
       "    .dataframe tbody tr th:only-of-type {\n",
       "        vertical-align: middle;\n",
       "    }\n",
       "\n",
       "    .dataframe tbody tr th {\n",
       "        vertical-align: top;\n",
       "    }\n",
       "\n",
       "    .dataframe thead th {\n",
       "        text-align: right;\n",
       "    }\n",
       "</style>\n",
       "<table border=\"1\" class=\"dataframe\">\n",
       "  <thead>\n",
       "    <tr style=\"text-align: right;\">\n",
       "      <th></th>\n",
       "      <th>id</th>\n",
       "      <th>x</th>\n",
       "      <th>y</th>\n",
       "    </tr>\n",
       "  </thead>\n",
       "  <tbody>\n",
       "    <tr>\n",
       "      <th>0</th>\n",
       "      <td>U1</td>\n",
       "      <td>10</td>\n",
       "      <td>30</td>\n",
       "    </tr>\n",
       "    <tr>\n",
       "      <th>1</th>\n",
       "      <td>U2</td>\n",
       "      <td>60</td>\n",
       "      <td>20</td>\n",
       "    </tr>\n",
       "    <tr>\n",
       "      <th>2</th>\n",
       "      <td>U3</td>\n",
       "      <td>100</td>\n",
       "      <td>60</td>\n",
       "    </tr>\n",
       "    <tr>\n",
       "      <th>3</th>\n",
       "      <td>U4</td>\n",
       "      <td>20</td>\n",
       "      <td>90</td>\n",
       "    </tr>\n",
       "  </tbody>\n",
       "</table>\n",
       "</div>"
      ],
      "text/plain": [
       "   id    x   y\n",
       "0  U1   10  30\n",
       "1  U2   60  20\n",
       "2  U3  100  60\n",
       "3  U4   20  90"
      ]
     },
     "execution_count": 10,
     "metadata": {},
     "output_type": "execute_result"
    }
   ],
   "source": [
    "df_users = pd.DataFrame(users)\n",
    "df_users"
   ]
  },
  {
   "cell_type": "code",
   "execution_count": 11,
   "id": "02c68304",
   "metadata": {},
   "outputs": [
    {
     "data": {
      "image/png": "[encoded data removed]",
      "text/plain": [
       "<Figure size 900x700 with 1 Axes>"
      ]
     },
     "metadata": {},
     "output_type": "display_data"
    }
   ],
   "source": [
    "plt.figure(figsize=(9, 7))\n",
    "plt.plot(df_antennas[\"x\"], df_antennas[\"y\"], 'ro', label='Antennas', markersize=10)\n",
    "plt.plot(df_users[\"x\"], df_users[\"y\"], 'bs', label='Users', markersize=8)\n",
    "\n",
    "for i, row in df_antennas.iterrows():\n",
    "    plt.text(row[\"x\"] + 2, row[\"y\"] + 2, row[\"id\"], color='red', fontsize=10)\n",
    "for i, row in df_users.iterrows():\n",
    "    plt.text(row[\"x\"] + 2, row[\"y\"] + 2, row[\"id\"], color='blue', fontsize=10)\n",
    "    \n",
    "plt.grid(True)\n",
    "plt.legend()\n",
    "plt.xlabel('X Coordinate')\n",
    "plt.ylabel('Y Coordinate')\n",
    "plt.title('Antennas and Users Positions')\n",
    "plt.axis('equal')\n",
    "plt.show()"
   ]
  },
  {
   "cell_type": "code",
   "execution_count": 12,
   "id": "e4b6fe13",
   "metadata": {},
   "outputs": [
    {
     "data": {
      "text/html": [
       "<div>\n",
       "<style scoped>\n",
       "    .dataframe tbody tr th:only-of-type {\n",
       "        vertical-align: middle;\n",
       "    }\n",
       "\n",
       "    .dataframe tbody tr th {\n",
       "        vertical-align: top;\n",
       "    }\n",
       "\n",
       "    .dataframe thead th {\n",
       "        text-align: right;\n",
       "    }\n",
       "</style>\n",
       "<table border=\"1\" class=\"dataframe\">\n",
       "  <thead>\n",
       "    <tr style=\"text-align: right;\">\n",
       "      <th></th>\n",
       "      <th>A1</th>\n",
       "      <th>A2</th>\n",
       "      <th>A3</th>\n",
       "    </tr>\n",
       "  </thead>\n",
       "  <tbody>\n",
       "    <tr>\n",
       "      <th>U1</th>\n",
       "      <td>31.622777</td>\n",
       "      <td>94.868330</td>\n",
       "      <td>68.818602</td>\n",
       "    </tr>\n",
       "    <tr>\n",
       "      <th>U2</th>\n",
       "      <td>63.245553</td>\n",
       "      <td>44.721360</td>\n",
       "      <td>66.753277</td>\n",
       "    </tr>\n",
       "    <tr>\n",
       "      <th>U3</th>\n",
       "      <td>116.619038</td>\n",
       "      <td>60.000000</td>\n",
       "      <td>56.356011</td>\n",
       "    </tr>\n",
       "    <tr>\n",
       "      <th>U4</th>\n",
       "      <td>92.195445</td>\n",
       "      <td>120.415946</td>\n",
       "      <td>30.265492</td>\n",
       "    </tr>\n",
       "  </tbody>\n",
       "</table>\n",
       "</div>"
      ],
      "text/plain": [
       "            A1          A2         A3\n",
       "U1   31.622777   94.868330  68.818602\n",
       "U2   63.245553   44.721360  66.753277\n",
       "U3  116.619038   60.000000  56.356011\n",
       "U4   92.195445  120.415946  30.265492"
      ]
     },
     "execution_count": 12,
     "metadata": {},
     "output_type": "execute_result"
    }
   ],
   "source": [
    "distance_matrix = np.zeros((len(users), len(antennas)))\n",
    "\n",
    "for i, user in enumerate(users):\n",
    "    for j, antenna in enumerate(antennas):\n",
    "        distance_matrix[i][j] = np.linalg.norm([user['x'] - antenna['x'], user['y'] - antenna['y']])\n",
    "\n",
    "user_ids = [user['id'] for user in users]\n",
    "antenna_ids = [antenna['id'] for antenna in antennas]\n",
    "df_distance = pd.DataFrame(distance_matrix, index=user_ids, columns=antenna_ids)\n",
    "df_distance"
   ]
  },
  {
   "cell_type": "markdown",
   "id": "43c4251a",
   "metadata": {},
   "source": [
    "## Reinforcement Learning"
   ]
  },
  {
   "cell_type": "code",
   "execution_count": null,
   "id": "0ba3111e",
   "metadata": {},
   "outputs": [],
   "source": []
  },
  {
   "cell_type": "code",
   "execution_count": null,
   "id": "ddb0730d",
   "metadata": {},
   "outputs": [],
   "source": []
  }
 ],
 "metadata": {
  "kernelspec": {
   "display_name": "Python 3",
   "language": "python",
   "name": "python3"
  },
  "language_info": {
   "codemirror_mode": {
    "name": "ipython",
    "version": 3
   },
   "file_extension": ".py",
   "mimetype": "text/x-python",
   "name": "python",
   "nbconvert_exporter": "python",
   "pygments_lexer": "ipython3",
   "version": "3.11.9"
  }
 },
 "nbformat": 4,
 "nbformat_minor": 5
}
